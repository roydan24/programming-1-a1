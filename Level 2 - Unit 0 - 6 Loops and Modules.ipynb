{
 "cells": [
  {
   "cell_type": "markdown",
   "metadata": {},
   "source": [
    "# **Loops and Modules**\n",
    "\n",
    "![Hello!](https://i.imgur.com/xgz9nkR.gif)"
   ]
  },
  {
   "cell_type": "markdown",
   "metadata": {},
   "source": [
    "# Skills\n",
    "* use `for` and `while` loops like a boss\n",
    "* loop by numbers other than one\n",
    "* use modules like `random`\n",
    "* know where to find MORE modules and libraries"
   ]
  },
  {
   "attachments": {
    "49e2b506-03c6-45f2-8786-98fd549e8d62.png": {
     "image/png": "[encoded data removed]"
    }
   },
   "cell_type": "markdown",
   "metadata": {},
   "source": [
    "![image.png](attachment:49e2b506-03c6-45f2-8786-98fd549e8d62.png)---\n",
    "# Loops\n",
    "![From programarcadegames.com](http://programarcadegames.com/chapters/04_loops/game_loop.png)"
   ]
  },
  {
   "cell_type": "markdown",
   "metadata": {},
   "source": [
    "## **`for` loops**\n",
    "`for` loops are constructs that we can use to repeat code.\n",
    "\n",
    "For example, let's print something out multiple times."
   ]
  },
  {
   "cell_type": "code",
   "execution_count": 2,
   "metadata": {
    "tags": []
   },
   "outputs": [
    {
     "name": "stdout",
     "output_type": "stream",
     "text": [
      "0. L.\n",
      "1. L.\n",
      "2. L.\n",
      "3. L.\n",
      "4. L.\n"
     ]
    }
   ],
   "source": [
    "# print five times\n",
    "for i in range(5):\n",
    "    print(f\"{i}. L.\")"
   ]
  },
  {
   "cell_type": "code",
   "execution_count": 3,
   "metadata": {
    "tags": []
   },
   "outputs": [
    {
     "name": "stdout",
     "output_type": "stream",
     "text": [
      "0\n",
      "---\n",
      "1\n",
      "---\n",
      "2\n",
      "---\n",
      "3\n",
      "---\n",
      "4\n",
      "---\n"
     ]
    }
   ],
   "source": [
    "for i in range(5):\n",
    "    print(i)\n",
    "    print(\"---\")"
   ]
  },
  {
   "cell_type": "code",
   "execution_count": 4,
   "metadata": {
    "tags": []
   },
   "outputs": [
    {
     "name": "stdout",
     "output_type": "stream",
     "text": [
      "1\n",
      "2\n",
      "3\n",
      "4\n",
      "5\n",
      "6\n",
      "7\n",
      "8\n",
      "9\n",
      "10\n"
     ]
    }
   ],
   "source": [
    "# print the numbers from 1 to 10\n",
    "for i in range(10):\n",
    "    print(i+1)"
   ]
  },
  {
   "cell_type": "code",
   "execution_count": 5,
   "metadata": {
    "tags": []
   },
   "outputs": [
    {
     "name": "stdout",
     "output_type": "stream",
     "text": [
      "1\n",
      "2\n",
      "3\n",
      "4\n",
      "5\n",
      "6\n",
      "7\n",
      "8\n",
      "9\n",
      "10\n"
     ]
    }
   ],
   "source": [
    "# print numbers from 1 to 10, v2\n",
    "# range(<start>, <stop>, <>)\n",
    "for i in range(1, 11):\n",
    "    print(i)"
   ]
  },
  {
   "cell_type": "markdown",
   "metadata": {},
   "source": [
    "### Counting by numbers other than one\n",
    "There are ways we can use `range` to count by numbers other than one."
   ]
  },
  {
   "cell_type": "code",
   "execution_count": 6,
   "metadata": {
    "tags": []
   },
   "outputs": [
    {
     "name": "stdout",
     "output_type": "stream",
     "text": [
      "2\n",
      "4\n",
      "6\n",
      "8\n",
      "10\n"
     ]
    }
   ],
   "source": [
    "# count even numbers 2 to 10\n",
    "# range(<start>, <stop>, <step>)\n",
    "for i in range(2, 11, 2):\n",
    "    print(i)"
   ]
  },
  {
   "cell_type": "code",
   "execution_count": 7,
   "metadata": {
    "tags": []
   },
   "outputs": [
    {
     "name": "stdout",
     "output_type": "stream",
     "text": [
      "2\n",
      "4\n",
      "6\n",
      "8\n",
      "10\n"
     ]
    }
   ],
   "source": [
    "# count even numbers 2 to 10, v2\n",
    "for i in range(5):\n",
    "    print((i+1)*2)"
   ]
  },
  {
   "cell_type": "code",
   "execution_count": 8,
   "metadata": {
    "tags": []
   },
   "outputs": [
    {
     "name": "stdout",
     "output_type": "stream",
     "text": [
      "10\n",
      "9\n",
      "8\n",
      "7\n",
      "6\n",
      "5\n",
      "4\n",
      "3\n",
      "2\n",
      "1\n"
     ]
    }
   ],
   "source": [
    "# count backwards from 10 to 1\n",
    "for i in range(10, 0, -1):\n",
    "    print(i)"
   ]
  },
  {
   "cell_type": "code",
   "execution_count": 12,
   "metadata": {},
   "outputs": [
    {
     "data": {
      "text/plain": [
       "[2, 4, 6, 8, 10]"
      ]
     },
     "execution_count": 12,
     "metadata": {},
     "output_type": "execute_result"
    }
   ],
   "source": [
    "list(range(2, 11, 2)) # iterable"
   ]
  },
  {
   "cell_type": "markdown",
   "metadata": {},
   "source": [
    "# **Lists and Loops**\n",
    "\n",
    "## **Lists**\n",
    "Lists are a data structure\n",
    "* an ordered collection of types\n",
    "* use `[]` to surround our list\n",
    "* we separate the individual elements with a `,`\n"
   ]
  },
  {
   "cell_type": "code",
   "execution_count": 17,
   "metadata": {
    "tags": []
   },
   "outputs": [
    {
     "data": {
      "text/plain": [
       "75.25"
      ]
     },
     "execution_count": 17,
     "metadata": {},
     "output_type": "execute_result"
    }
   ],
   "source": [
    "# lists\n",
    "# name variable as a PLURAL\n",
    "percentages = [90, 91, 91, 90, 0, 68, 73, 99]\n",
    "\n",
    "# CALCULATE THE AVERAGE PERCENTAGE\n",
    "total = 0\n",
    "\n",
    "# for <element> in list: \n",
    "for percent in percentages:\n",
    "    total += percent\n",
    "\n",
    "average = total / len(percentages)\n",
    "average\n",
    "    \n"
   ]
  },
  {
   "cell_type": "code",
   "execution_count": 18,
   "metadata": {
    "tags": []
   },
   "outputs": [
    {
     "data": {
      "text/plain": [
       "75.25"
      ]
     },
     "execution_count": 18,
     "metadata": {},
     "output_type": "execute_result"
    }
   ],
   "source": [
    "# Calculating average V2\n",
    "percentages = [90, 91, 91, 90, 0, 68, 73, 99]\n",
    "\n",
    "average = sum(percentages)/len(percentages)\n",
    "average"
   ]
  },
  {
   "cell_type": "code",
   "execution_count": 19,
   "metadata": {
    "tags": []
   },
   "outputs": [
    {
     "name": "stdout",
     "output_type": "stream",
     "text": [
      "a\n",
      "b\n",
      "b\n",
      "b\n",
      "a\n",
      "b\n",
      "b\n",
      "b\n",
      "a\n",
      "b\n",
      "b\n",
      "b\n"
     ]
    }
   ],
   "source": [
    "# Nested loops\n",
    "for i in range(3):\n",
    "    print(\"a\")\n",
    "    for j in range(3):\n",
    "        print(\"b\")"
   ]
  },
  {
   "cell_type": "markdown",
   "metadata": {},
   "source": [
    "## Concatenation and Multiplication"
   ]
  },
  {
   "cell_type": "markdown",
   "metadata": {},
   "source": [
    "### Application of `for` Loops\n",
    "We want to add up all the numbers from 1 to 100."
   ]
  },
  {
   "cell_type": "code",
   "execution_count": null,
   "metadata": {
    "tags": []
   },
   "outputs": [],
   "source": []
  },
  {
   "cell_type": "code",
   "execution_count": null,
   "metadata": {
    "tags": []
   },
   "outputs": [],
   "source": []
  },
  {
   "cell_type": "markdown",
   "metadata": {},
   "source": [
    "## **List Comprehension**"
   ]
  },
  {
   "cell_type": "code",
   "execution_count": null,
   "metadata": {},
   "outputs": [],
   "source": []
  },
  {
   "cell_type": "markdown",
   "metadata": {},
   "source": [
    "---\n",
    "## **`while` loops**\n",
    "`while` loops are used when you don't know how many times you want to loop."
   ]
  },
  {
   "cell_type": "code",
   "execution_count": null,
   "metadata": {
    "tags": []
   },
   "outputs": [],
   "source": []
  },
  {
   "cell_type": "code",
   "execution_count": null,
   "metadata": {},
   "outputs": [],
   "source": []
  },
  {
   "cell_type": "markdown",
   "metadata": {},
   "source": [
    "### `random` module and modules in general\n",
    "**Modules** are tools that others have created to make our lives easier.\n",
    "\n",
    "For example, `random` includes a library of tools that have to do with randomness."
   ]
  },
  {
   "cell_type": "code",
   "execution_count": null,
   "metadata": {
    "tags": []
   },
   "outputs": [],
   "source": []
  },
  {
   "cell_type": "code",
   "execution_count": null,
   "metadata": {
    "tags": []
   },
   "outputs": [],
   "source": []
  },
  {
   "cell_type": "code",
   "execution_count": null,
   "metadata": {},
   "outputs": [],
   "source": [
    "# generates a float between\n",
    "# 0 and 1\n"
   ]
  },
  {
   "cell_type": "markdown",
   "metadata": {},
   "source": [
    "---\n",
    "## **Exercise**\n",
    "\n",
    "For each of these problems, create a new Python file.  \n",
    "Be sure to name the file correctly."
   ]
  },
  {
   "cell_type": "markdown",
   "metadata": {},
   "source": [
    "### 1. Number Pyramid\n",
    "`lastname_initial_01pyramid.py`\n",
    "\n",
    "Write a Python program that will print the following:\n",
    "\n",
    "`  \n",
    "10  \n",
    "11 12  \n",
    "13 14 15  \n",
    "16 17 18 19  \n",
    "20 21 22 23 24  \n",
    "25 26 27 28 29 30  \n",
    "31 32 33 34 35 36 37  \n",
    "38 39 40 41 42 43 44 45  \n",
    "46 47 48 49 50 51 52 53 54`"
   ]
  },
  {
   "cell_type": "markdown",
   "metadata": {},
   "source": [
    "## 2. Big Box\n",
    "Filename: `lastname_initial_02bigbox.py`\n",
    "\n",
    "Create a box out of n rows of letter o's for any size n. Get the n value using the `input()` from the user. (Remember to cast that as an `int`).\n",
    "\n",
    "`E.g. n = 3\n",
    "oooooo\n",
    "o    o\n",
    "oooooo`\n",
    " \n",
    "`E.g. n = 8\n",
    "oooooooooooooooo\n",
    "o              o\n",
    "o              o\n",
    "o              o\n",
    "o              o\n",
    "o              o\n",
    "o              o\n",
    "oooooooooooooooo`\n",
    "\n",
    "Hint: break the problem up into parts\n",
    "* Trying building the top of the box, then the bottom\n",
    "* Then once you've done that, create the sides"
   ]
  }
 ],
 "metadata": {
  "kernelspec": {
   "display_name": "Python 3",
   "language": "python",
   "name": "python3"
  },
  "language_info": {
   "codemirror_mode": {
    "name": "ipython",
    "version": 3
   },
   "file_extension": ".py",
   "mimetype": "text/x-python",
   "name": "python",
   "nbconvert_exporter": "python",
   "pygments_lexer": "ipython3",
   "version": "3.8.2"
  }
 },
 "nbformat": 4,
 "nbformat_minor": 4
}
