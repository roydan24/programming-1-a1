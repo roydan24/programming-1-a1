{
 "cells": [
  {
   "cell_type": "markdown",
   "metadata": {},
   "source": [
    "# Unit 0 - Basics\n",
    "## f-strings\n",
    "### What does f stand for?\n",
    "\n",
    "F stands for **fast**."
   ]
  },
  {
   "cell_type": "code",
   "execution_count": null,
   "metadata": {},
   "outputs": [],
   "source": [
    "print(f\"This is an f-string!\")"
   ]
  },
  {
   "cell_type": "markdown",
   "metadata": {},
   "source": [
    "## String Slices"
   ]
  },
  {
   "cell_type": "code",
   "execution_count": 21,
   "metadata": {},
   "outputs": [
    {
     "name": "stdout",
     "output_type": "stream",
     "text": [
      "Jan\n"
     ]
    }
   ],
   "source": [
    "#        0123456\n",
    "month = \"January\"\n",
    "abbreviation = month[0:3]\n",
    "print(abbreviation)"
   ]
  },
  {
   "cell_type": "code",
   "execution_count": 23,
   "metadata": {},
   "outputs": [
    {
     "name": "stdout",
     "output_type": "stream",
     "text": [
      "Aug\n",
      "ust\n"
     ]
    }
   ],
   "source": [
    "month = \"August\"\n",
    "first_part = month[:3]\n",
    "print(first_part)\n",
    "last_part = month[3:]\n",
    "print(last_part)"
   ]
  },
  {
   "cell_type": "code",
   "execution_count": 27,
   "metadata": {},
   "outputs": [
    {
     "name": "stdout",
     "output_type": "stream",
     "text": [
      "13579\n",
      "2468\n"
     ]
    }
   ],
   "source": [
    "numbers = \"123456789\"\n",
    "# [start:stop:step]\n",
    "odd = numbers[::2]\n",
    "print(odd)\n",
    "even = numbers[1::2]\n",
    "print(even)"
   ]
  },
  {
   "cell_type": "code",
   "execution_count": 28,
   "metadata": {},
   "outputs": [
    {
     "name": "stdout",
     "output_type": "stream",
     "text": [
      "9\n"
     ]
    }
   ],
   "source": [
    "# can give negative indicies\n",
    "numbers = \"123456789\"\n",
    "last_num = numbers[-1]\n",
    "print(last_num)"
   ]
  },
  {
   "cell_type": "markdown",
   "metadata": {},
   "source": [
    "### What kind of brackets can you do operations in?\n",
    "\n",
    "We use {} or **braces** to do operations inside of f-strings.\n",
    "\n",
    "### What's an operation?\n",
    "An operation in this case is any mathmatical operation.  \n",
    "Example:\n",
    "\n",
    "#### Using the Math Module\n",
    "We can import the Math module to help us calculate things\n",
    "\n",
    "https://docs.python.org/3/library/math.html\n"
   ]
  },
  {
   "cell_type": "code",
   "execution_count": 1,
   "metadata": {},
   "outputs": [
    {
     "name": "stdout",
     "output_type": "stream",
     "text": [
      "Hello, Roydan.\n"
     ]
    }
   ],
   "source": [
    "name = \"Roydan\"\n",
    "print(f\"Hello, {name}.\")"
   ]
  },
  {
   "cell_type": "code",
   "execution_count": 2,
   "metadata": {},
   "outputs": [
    {
     "name": "stdout",
     "output_type": "stream",
     "text": [
      "0.0\n",
      "The GCD of 10 and 688 is 2\n"
     ]
    }
   ],
   "source": [
    "#print(1 + 1)\n",
    "\n",
    "import math\n",
    "print(math.sin(0))\n",
    "print(f\"The GCD of 10 and 688 is {math.gcd(10, 688)}\")"
   ]
  },
  {
   "cell_type": "markdown",
   "metadata": {},
   "source": [
    "## Escape Codes"
   ]
  },
  {
   "cell_type": "code",
   "execution_count": 10,
   "metadata": {},
   "outputs": [
    {
     "name": "stdout",
     "output_type": "stream",
     "text": [
      "one line.\n",
      "\n",
      "\n",
      "Second line.\n",
      "Item\tItem\tItem\n",
      "1.\t2.\t3.\t\n",
      "The boy said, \"Hello!\"\n"
     ]
    }
   ],
   "source": [
    "# \\n <- escape sequence\n",
    "# print(\"One line.\")\n",
    "# print(\"Second line.\")\n",
    "\n",
    "print(\"one line.\\n\\n\\nSecond line.\")\n",
    "\n",
    "# \\t - tab\n",
    "print(\"Item\\tItem\\tItem\")\n",
    "print(\"1.\\t2.\\t3.\\t\")\n",
    "\n",
    "# \\\" - inserts a literal double quote\n",
    "print(\"The boy said, \\\"Hello!\\\"\")"
   ]
  },
  {
   "cell_type": "markdown",
   "metadata": {},
   "source": [
    "# Variables"
   ]
  },
  {
   "cell_type": "code",
   "execution_count": null,
   "metadata": {},
   "outputs": [],
   "source": [
    "message = \"Your time is up.\"\n",
    "\n",
    "# How do you properly name variables\n",
    "# Should start with a lower-case letter\n",
    "name = \"Jonas\"\n",
    "age = 2\n",
    "# if you need a space, use an underscore\n",
    "date_of_birth = \"January 24\"\n",
    "Date0fBirth = \"January 24\" # Don't use this in python\n",
    "dob = \"January 24\"         # Don't do this, be as decriptive as posible\n",
    "\n",
    "# Constants should be in ALL CAPS\n",
    "SCREEN_WIDTH = 1024\n",
    "SCREEN_HEIGHT = 768\n",
    "\n",
    "# You can also use numbers in names\n",
    "number_of_2s = 28"
   ]
  },
  {
   "cell_type": "markdown",
   "metadata": {},
   "source": [
    "## Reasignment"
   ]
  },
  {
   "cell_type": "code",
   "execution_count": 13,
   "metadata": {},
   "outputs": [
    {
     "name": "stdout",
     "output_type": "stream",
     "text": [
      "5\n",
      "7\n"
     ]
    }
   ],
   "source": [
    "bruces_age = 5\n",
    "print(bruces_age)\n",
    "bruces_age = 7\n",
    "print(bruces_age)"
   ]
  },
  {
   "cell_type": "code",
   "execution_count": 17,
   "metadata": {},
   "outputs": [
    {
     "name": "stdout",
     "output_type": "stream",
     "text": [
      "5\n"
     ]
    }
   ],
   "source": [
    "a = 5\n",
    "b = a\n",
    "a = 10\n",
    "print(b)"
   ]
  },
  {
   "cell_type": "markdown",
   "metadata": {},
   "source": [
    "## Updating Variables"
   ]
  },
  {
   "cell_type": "code",
   "execution_count": 19,
   "metadata": {},
   "outputs": [
    {
     "name": "stdout",
     "output_type": "stream",
     "text": [
      "0\n",
      "1\n",
      "7\n"
     ]
    }
   ],
   "source": [
    "counter = 0 \n",
    "print(counter)\n",
    "counter = counter + 1\n",
    "print(counter)\n",
    "counter += 6 # increment operator\n",
    "print(counter)"
   ]
  },
  {
   "cell_type": "markdown",
   "metadata": {},
   "source": [
    "## Datatypes\n",
    "### What are some datatypes that we've seen?"
   ]
  },
  {
   "cell_type": "code",
   "execution_count": 34,
   "metadata": {},
   "outputs": [
    {
     "name": "stdout",
     "output_type": "stream",
     "text": [
      "Paul\n"
     ]
    }
   ],
   "source": [
    "# String\n",
    "my_name = \"Tim\"\n",
    "# f-strings\n",
    "my_last_name = f\"Ubial\"\n",
    "\n",
    "print(my_name)\n",
    "print(my_last_name)\n",
    "\n",
    "# OTHER DATATYPES\n",
    "12                 # number -> integer (whole)\n",
    "12.0               # number -> float\n",
    "True\n",
    "False              # boolean values\n",
    "[1, 2 ,3, 4]       # list\n",
    "[\"1\", \"2\"]\n",
    "[1, \"one\"] \n",
    "{\"name\": \"Tim\"}    # dictionary (like a list)\n",
    "# e.g.\n",
    "student = {\n",
    "    \"name\": \"Paul\", \n",
    "    \"student number\": 1234,\n",
    "    \"a-block\": \"Chemistry 12\"\n",
    "}\n",
    "print(student[\"name\"])"
   ]
  },
  {
   "cell_type": "markdown",
   "metadata": {},
   "source": [
    "### Casting\n",
    "What do we do to force Python to look at a string like it's a number?"
   ]
  },
  {
   "cell_type": "code",
   "execution_count": 37,
   "metadata": {},
   "outputs": [
    {
     "name": "stdout",
     "output_type": "stream",
     "text": [
      "21\n"
     ]
    }
   ],
   "source": [
    "age = \"16\"\n",
    "# add 5 to the age\n",
    "\n",
    "# use a cast to force a value into another type\n",
    "new_age = int(age) + 5\n",
    "print(new_age)"
   ]
  },
  {
   "cell_type": "code",
   "execution_count": 39,
   "metadata": {},
   "outputs": [
    {
     "data": {
      "text/plain": [
       "dict"
      ]
     },
     "execution_count": 39,
     "metadata": {},
     "output_type": "execute_result"
    }
   ],
   "source": [
    "# type() function \n",
    "age = 16.\n",
    "type(age)"
   ]
  },
  {
   "cell_type": "markdown",
   "metadata": {},
   "source": [
    "## Statements and Expressions\n",
    "\n",
    "A **Statement** is an instruction that Python can execute.\n",
    "Assignment (when we assign a value to a variable) is a **statement**\n",
    "\n",
    "> eg `date_of_birth = \"January 22\"`\n",
    "\n",
    "An **expresion** is a statement that MUST BE EVALUATED\n",
    "> eg `date_of_birth_and_year = date_of_birth + \"2020\"`"
   ]
  },
  {
   "cell_type": "markdown",
   "metadata": {},
   "source": [
    "## Order of Operations\n",
    "BEDMAS\n",
    "1. Brackets\n",
    "2. Exponents\n",
    "3. Division and Multiplication\n",
    "4. The rest\n",
    "\n",
    "Evaluates from left-to-right (left-associative)"
   ]
  },
  {
   "cell_type": "code",
   "execution_count": 51,
   "metadata": {},
   "outputs": [
    {
     "name": "stdout",
     "output_type": "stream",
     "text": [
      "3\n",
      "1\n"
     ]
    }
   ],
   "source": [
    "# Exponents **\n",
    "# squared = 2 ** 2 # (2^2)\n",
    "# print(squared)\n",
    "\n",
    "# Floor division // (gives the result in an int)\n",
    "# division_result = 21 // 4\n",
    "# print(division_result)\n",
    "\n",
    "# Find the remainder -- modulo \n",
    "remainder = 8 % 5 # 1r3\n",
    "print(remainder)\n",
    "\n",
    "# Modulo application\n",
    "# Find out if 14967855\n",
    "remainder = 14967855 % 2 # if result is 0 the it is divisible\n",
    "print(remainder)"
   ]
  },
  {
   "cell_type": "markdown",
   "metadata": {},
   "source": [
    "# Input\n",
    "### How do we get input from a user?"
   ]
  },
  {
   "cell_type": "code",
   "execution_count": null,
   "metadata": {},
   "outputs": [],
   "source": [
    "# Use the input() function\n",
    "your_name = input(f'What\\'s your name? ')\n",
    "print(your_name)"
   ]
  },
  {
   "cell_type": "markdown",
   "metadata": {},
   "source": [
    "---\n",
    "# Assignment\n",
    "For each of these programs, be sure to put in the header _(Title, Author, Date)_.\n",
    "## Create a program that asks the user for a temperature in Celcius, and then prints the temperature in Farenheit.\n",
    "The formula for conversion is:  \n",
    "`C = (F − 32) × 5/9 `\n",
    "`(0°C × 9/5) + 32 = 32°F`"
   ]
  },
  {
   "cell_type": "code",
   "execution_count": 5,
   "metadata": {},
   "outputs": [
    {
     "name": "stdin",
     "output_type": "stream",
     "text": [
      "Please give the temperature in Celcius to convert:  10.1\n"
     ]
    },
    {
     "name": "stdout",
     "output_type": "stream",
     "text": [
      "10.1 deg C is 50.18 deg F.\n"
     ]
    }
   ],
   "source": [
    "# Get temperature from user in Celsius\n",
    "temp_in_celcius = input(f'Please give the temperature in Celcius to convert: ')\n",
    "\n",
    "# Make the calculation\n",
    "temp_in_farenheit = (float(temp_in_celcius)* 9/5) + 32\n",
    "\n",
    "# Tell the user the conversion\n",
    "print(f'{temp_in_celcius} deg C is {temp_in_farenheit} deg F.')"
   ]
  },
  {
   "cell_type": "markdown",
   "metadata": {},
   "source": [
    "## Create a program that takes the radius of a circle and calculates its area.\n",
    "The formula to calculate the area is:  \n",
    "`A = pi * r ^ 2`  \n",
    "Note:  \n",
    "In order to use pi, **import the math module**.  \n",
    "It has the constant, pi, that you can use.\n",
    "You can use it by using `math.pi`."
   ]
  },
  {
   "cell_type": "code",
   "execution_count": null,
   "metadata": {},
   "outputs": [],
   "source": [
    "# Calculate Area of Circle\n",
    "# Author: Ubial\n",
    "# Date: 7 Feb 2019\n",
    "\n",
    "import math\n",
    "\n",
    "# Get the radius from user\n",
    "radius = input(f'Enter the radius: ')\n",
    "area = math.pi * float(radius) ** 2\n",
    "\n",
    "# Print the result\n",
    "print(f'The area of the circle is {area} square units.')"
   ]
  },
  {
   "cell_type": "markdown",
   "metadata": {},
   "source": [
    "## Create a program that tells a three jokes.\n",
    "Each of the jokes needs to interact with the user."
   ]
  },
  {
   "cell_type": "code",
   "execution_count": null,
   "metadata": {},
   "outputs": [],
   "source": [
    "# Comedian Bot\n",
    "# Author: Ubial\n",
    "# Date: 7 Feb 2019"
   ]
  },
  {
   "cell_type": "markdown",
   "metadata": {},
   "source": [
    "## Evaluating Questions\n",
    "\n",
    "Evaluate the following expressions in your head. Use the code cell below to see if you're correct.\n",
    "\n",
    "  5 ** 2 = 25\n",
    "\n",
    "  9 * 5 = 45\n",
    "\n",
    "  15 / 12 = 1.25\n",
    "\n",
    "  12 / 15 = 0.8\n",
    "\n",
    "  15 // 12 = 1\n",
    "\n",
    "  12 // 15 = 0\n",
    "\n",
    "  5 % 2 = 1\n",
    "\n",
    "  9 % 5 = 4\n",
    "\n",
    "  15 % 12 = 3\n",
    "\n",
    "  12 % 15 = 2\n",
    "\n",
    "  6 % 6 = 0 \n",
    "\n",
    "  0 % 7 = 0"
   ]
  },
  {
   "cell_type": "code",
   "execution_count": 16,
   "metadata": {},
   "outputs": [
    {
     "data": {
      "text/plain": [
       "0"
      ]
     },
     "execution_count": 16,
     "metadata": {},
     "output_type": "execute_result"
    }
   ],
   "source": [
    "0%7"
   ]
  },
  {
   "cell_type": "markdown",
   "metadata": {},
   "source": [
    "## Order of Operations\n",
    "Evaluate the following expression using the proper order of operations used in Python.\n"
   ]
  },
  {
   "cell_type": "code",
   "execution_count": 17,
   "metadata": {},
   "outputs": [
    {
     "data": {
      "text/plain": [
       "22.0"
      ]
     },
     "execution_count": 17,
     "metadata": {},
     "output_type": "execute_result"
    }
   ],
   "source": [
    "2 + (3 - 1) * 10 / 5 * (2 + 3)"
   ]
  },
  {
   "cell_type": "code",
   "execution_count": 18,
   "metadata": {},
   "outputs": [
    {
     "data": {
      "text/plain": [
       "2.8"
      ]
     },
     "execution_count": 18,
     "metadata": {},
     "output_type": "execute_result"
    }
   ],
   "source": [
    "2 + ((3-1)*10)/(5*(2+3))"
   ]
  },
  {
   "cell_type": "markdown",
   "metadata": {},
   "source": [
    "## Translating Time and Alarms\n",
    "Problem: In Europe, time is generally told using the 24h clock (e.g. 11:00 is 11:00am and 23:00 is 11:00pm, 00:00 is midnight). Using this standard of time, if it is 13:00 and you set your alarm to go off in 50 hours, it will be 15:00 (3:00pm).\n",
    "\n",
    "Write a Python program in the code cell below to solve the general version of the above problem.  \n",
    "Ask the user for the time now (in hours), and then ask for the number of hours to wait for the alarm.  \n",
    "Your program should output what the time will be on the clock when the alarm goes off."
   ]
  },
  {
   "cell_type": "code",
   "execution_count": 50,
   "metadata": {},
   "outputs": [
    {
     "name": "stdin",
     "output_type": "stream",
     "text": [
      "What is the time in the 24h clock? 13\n",
      "How many hours to wait for the alarm? 24\n"
     ]
    },
    {
     "name": "stdout",
     "output_type": "stream",
     "text": [
      "Your alarm will go off at 37.0pm\n"
     ]
    }
   ],
   "source": [
    "# Ask the user for the time\n",
    "time = input(\"What is the time in the 24h clock?\")\n",
    "\n",
    "# Ask the user for the number of hours to wait for the alarm\n",
    "alarm = input(\"How many hours to wait for the alarm?\")\n",
    "\n",
    "# Calculate the time\n",
    "time_alarm = float(time) + float(alarm)\n",
    "\n",
    "# Determine whether it is am or pm\n",
    "\n",
    "\n",
    "if time_alarm <= 12.00:\n",
    "    print(f\"Your alarm will go off at {time_alarm}am\")\n",
    "elif time_alarm >= 12.00:\n",
    "    print(f\"Your alarm will go off at {time_alarm}pm\")\n",
    "elif time_alarm > 24.00:\n",
    "    time_alarm = float(time_alarm) % 24.00\n",
    "    if time_alarm <= 12.00:\n",
    "        print(f\"Your alarm will go off at {time_alarm}am\")\n",
    "    else:\n",
    "        print(f\"Your alarm will go off at {time_alarm}pm\")\n",
    "else:\n",
    "    print(\"Can't compute\")\n"
   ]
  },
  {
   "cell_type": "markdown",
   "metadata": {},
   "source": [
    "## Compound Interest\n",
    "http://www.ourpursuitofperfection.com/wp-content/uploads/2017/06/compound-interest-formula-diagram.png\n",
    "\n",
    "Write a Python program that has a *principal amount of 15000*, *compounds monthly* (n = 12), and has an *interest rate of 8%* (0.08). Then have the program ask the user for the number of years, t. Calculate and print the final amount after t years."
   ]
  },
  {
   "cell_type": "code",
   "execution_count": 48,
   "metadata": {},
   "outputs": [
    {
     "name": "stdin",
     "output_type": "stream",
     "text": [
      "how many years would you like to compound for? 3\n"
     ]
    },
    {
     "name": "stdout",
     "output_type": "stream",
     "text": [
      "The final amount is $15300.0\n"
     ]
    }
   ],
   "source": [
    "# Ask for number of yrs to compound\n",
    "time = float(input(\"how many years would you like to compound for?\"))\n",
    "\n",
    "# Calculate and print out the answer\n",
    "principal = 15000\n",
    "num_of_compounds = 12\n",
    "interest_rate = .08\n",
    "\n",
    "amount = principal * (1 + (interest_rate)/num_of_compounds * time)\n",
    "print(f\"The final amount is ${amount}\")"
   ]
  }
 ],
 "metadata": {
  "kernelspec": {
   "display_name": "Python 3",
   "language": "python",
   "name": "python3"
  },
  "language_info": {
   "codemirror_mode": {
    "name": "ipython",
    "version": 3
   },
   "file_extension": ".py",
   "mimetype": "text/x-python",
   "name": "python",
   "nbconvert_exporter": "python",
   "pygments_lexer": "ipython3",
   "version": "3.8.2"
  }
 },
 "nbformat": 4,
 "nbformat_minor": 4
}
